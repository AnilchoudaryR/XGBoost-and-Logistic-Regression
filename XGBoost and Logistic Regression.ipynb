{
 "cells": [
  {
   "cell_type": "markdown",
   "metadata": {},
   "source": [
    "# LOGISTIC REGRESSION AND XGBOOST\n"
   ]
  },
  {
   "cell_type": "markdown",
   "metadata": {},
   "source": [
    "### Anilchoudary Rugaramji\n",
    "### Matriculation number: 218100195\n",
    "### Master's in  Computational Science and Engineering \n",
    "### Data Science with Python\n",
    "### University of Rostock"
   ]
  },
  {
   "cell_type": "markdown",
   "metadata": {},
   "source": [
    "## ABSTRACT\n"
   ]
  },
  {
   "cell_type": "markdown",
   "metadata": {},
   "source": [
    "Handwritten character recognition is one of the compelling research going on currently, as every individual in this world has their own style of writing.\n",
    "Digit recognition has several applications including postal mail sorting, bank check processing, form data entry, etc.\n",
    "It is an important issue in pattern recognition applications.\n",
    "The main problem lies within the ability to develop an efficient algorithm that can recognize handwritten digits.\n",
    "\n",
    "\n",
    "Various machine learning and deep learning algorithms are developed which can be used for this digit classification. Most dataset is used for this recognition process and it has 70000\n",
    "handwritten digits.  This case study assesses the performance of two different machine learning techniques, Logistic regression, and XGBoost. The efficiency of handwritten digit recognition models greatly relies on the classification technique used and the\n",
    "optimization technique involved. The main objective of this work is to compare the performance accuracy of both algorithms and\n",
    "compute the confusion matrix. The results reveal that XGBosst outperforms logistic regression in terms of train and test accuracy."
   ]
  },
  {
   "cell_type": "markdown",
   "metadata": {},
   "source": [
    "## KEYWORDS \n",
    "XGBoost, Logistic Regression, RandomizedSearchCV, Confusion Matrix, K-Fold Cross Validaton"
   ]
  },
  {
   "cell_type": "markdown",
   "metadata": {},
   "source": [
    "## INTRODUCTION\n",
    "\n",
    "In recent years, machine learning models have been grown significantly and still escalating. Especially, deep neural networks\n",
    "have achieved great success in various applications [1], particularly in tasks involving visual information. However, instead of using convolution operation, logistic regression, or multinomial logistic regression (MLR) can also be used. \n",
    "\n",
    "Logistic regression is a valuable tool for analyzing information that incorporates categorical response factors, such as the presence\n",
    "or absence of a species in quadrats, presence of disease, or harm to seedlings. In statistics, the logistic model (or logit model)\n",
    "is used to model the probability of a certain class or event existing such as pass/fail, win/lose, alive/dead, or healthy/sick. \n",
    "This can be extended to model several classes of events such as determining whether an image contains a cat, dog, lion, etc. \n",
    "Each object is detected in the image would be assigned a probability between 0 and 1, with a sum of one [2].\n",
    "\n",
    "Logistic regression is used in various fields, including machine learning especially in the medical field and social sciences.  For example, the Trauma and Injury Severity Score (TRISS), which is widely used to predict mortality in injured patients, was originally developed by Boyd et al. using logistic regression. Logistic regression may be used to predict the risk of developing a given disease (e.g. diabetes; coronary heart disease), based on observed characteristics of the patient (age, sex, body mass index, results of various blood tests). The technique can also be used in engineering, especially for predicting the probability of failure of a given process, system, or product. It is also used in marketing applications such as prediction of a customer's propensity to purchase a product or halt a subscription, etc.[3]\n",
    "\n",
    "XGBoost is an algorithm that has recently been dominating applied machine learning and Kaggle competitions for structured or tabular data. XGBoost is an implementation of gradient boosted decision trees designed for speed and performance. The two main reasons to use XGBoost are because of its high execution speed and great model performance [4]. XGBoost has a wide range of applications in solving regression, classification, ranking, and user-defined prediction problems. \n",
    "\n",
    "As previously mentioned, the MNIST dataset has been used to perform the experiment of this study. The MNIST dataset is well known for introducing machine learning for several reasons. One of them could be that is complex to classify due to the irregularities in handwriting. For this work, we have implemented two different algorithms and feed them with the same inputs so we can see the superiorities and drawbacks of each Model. Firstly, both models are introduced in section 2 as a state of the art. later the experiment is explained in the model section, and finally, the case study is concluded. \n"
   ]
  },
  {
   "cell_type": "markdown",
   "metadata": {},
   "source": [
    "# STATE OF THE ART"
   ]
  },
  {
   "cell_type": "markdown",
   "metadata": {},
   "source": [
    "In recent years, several state-of-the-art models have been developed for handwritten digit recognition. The literature related to handwritten digit recognition using machine learning techniques, Logistic regression, and XGBoost has been reviewed in this section[22].\n",
    "\n",
    "\n",
    "Handwritten digit recognition is one of the most important issues in data mining, machine learning, pattern recognition along with many other disciplines of artificial intelligence [23]. Over the last decade, machine learning methods have\n",
    "accomplished a lot further than manually written classical artificial intelligence systems that are used in the beginnings of\n",
    "optical character recognition technology [24]. Extensive research worker in machine\n",
    "learning and data mining has been done to achieve\n",
    "efficient approaches for approximation of recognition\n",
    "from data [25]. Handwritten digit\n",
    "communication has its own standard in the twenty-first century and most of the\n",
    "time in daily life is used as a means of\n",
    "conversation and recording information that is to be shared\n",
    "with individuals. One of the major challenges in handwritten\n",
    "character recognition lies in the variation and\n",
    "distortion of the handwritten character set. This is because distinct\n",
    "communities might use a diverse style of handwriting, and\n",
    "control to draw the similar pattern of the characters of\n",
    "their recognized script. It is exhausting sometimes to identify handwritten\n",
    "characters as a lot of human beings can’t even recognize their own handwritten scripts. Handwritten character recognition is mainly challenged by huge variation of individual writing styles\n",
    "[26]. Therefore, robust feature extraction is very important to\n",
    "improve the performance of a handwritten character recognition system.  \n",
    "\n",
    "\n",
    "In real-world applications, Logistic regression is by far the most widely\n",
    "used classifier. In the paper [18], it benchmarks the state-of-the-art active\n",
    "learning methods for logistic regression and discuss its underlying characteristics. Experiments are carried out\n",
    "on three synthetic datasets and 44 real-world datasets which provide insight into the behaviors of these active\n",
    "learning methods concerning the area of the learning curve and their computational costs.\n",
    "Uncertainty sampling which is one of the earliest and simplest suggested active learning methods surprisingly\n",
    "performs exceptionally well overall. Another remarkable finding is that random sampling is not overwhelmed by individual active learning techniques in many cases. Predictive power, interpretability, significance, robustness to error in data, and sparsity are some of the desirable properties of a high-quality logistic regression model. To achieve these goals, modelers incorporate these properties iteratively. During the years 1991-2015, algorithmic advances in mixed-integer \n",
    "    Linear Optimization (MILO) coupled with hardware improvements have resulted in an astonishing 450 billion factor speedup in solving MILO problems[19].\n",
    "    \n",
    "Logistic regression (LR) is used in various areas due to its simplicity and interpretability. However those \n",
    "two properties limit its classification accuracy. \n",
    "Instead, Deep neural networks (DNNs) achieve state-of-the-art performance\n",
    "in many domains. However, the nonlinearity and complexity of DNNs make it less interpretable. To balance interpretability and classification performance a nonlinear model- Deep Embedding Logistic Regression (DELR) is proposed, which augments LR \n",
    "with a nonlinear dimension-wise feature embedding. Each feature embedding is learned through a deep and narrow neural network in DELR and LR is attached to decide feature importance. DSLR is a compact and yet powerful model that offers great interpretability.\n",
    "    It can tell the importance of each input feature, yield meaningful embedding of categorical features, and extract actionable\n",
    "    changes, making it attractive for tasks such as market analysis and clinical prediction[21].\n",
    "\n",
    "\n",
    "Boosting is an algorithm that is extensively used in the machine learning field. Kearns and Valiant (1988, 1989) asked a question that could if weak learners consolidated into a strong one. The boosting algorithm is found to be the answer to this question. This answer was given by Robert Schapire's in a 1990 paper[1].\n",
    " Hence, Kearns and Valiant has played an important role in the enlargement of boosting [1]. This algorithm fits a weak classifier to weighted versions of the data iteratively.\n",
    " At each iteration, the data is reweighted such that misclassified data points receive larger weights.\n",
    "\n",
    "In boosting, several weak learners are combined and prediction is given by one strong learner. The final prediction can thus be made by weighted average or simple average of weak learners. In weighted average, more weight is given to a learner with higher classification accuracy. On the other hand, no weights are allocated to the weak learners in simple average. In the boosting system, various weak learners are consolidated and give a strong learner with higher accuracy. Therefore, bias and variance are considered important parameters to measure the accuracy of these algorithms. The better algorithm is the one that provides high bias and low variance. In the first boosting hypothesis algorithm problem, weak learners turns into a strong learner which gives more accuracy than the random guessing [1].\n",
    "When boosting come in the machine learning field, then AdaBoost came and XGboost played an important role in this field. Eventually boosting became a popular algorithm in this field.\n",
    "\n",
    "XGBoost is also well-known for extreme Gradient Boosting. XGBoost is an extension of gradient boosting by (Friedman, 2001) (Friedman et al., 2000). XGBoost has been successfully used in recent Kaggle competitions, usually as an integral part of the winning ensemble. It implements a variety of Gradient Boosting algorithms,\n",
    " including Generalized Linear Model(GLM) and Gradient Boosted Decision Tree (GBDT). The focus is on scalability. XGBoost differs from Random Forests mainly in the way it creates the tree ensemble. \n",
    "\n",
    "\n"
   ]
  },
  {
   "cell_type": "markdown",
   "metadata": {},
   "source": [
    "# THEORY"
   ]
  },
  {
   "cell_type": "markdown",
   "metadata": {},
   "source": [
    "Machine learning is a subset of artificial intelligence that provides the ability to the systems to automatically learn and improvise with experience without being programmed. A major focus of machine learning  is on the development of \n",
    "computer programs that take data and utilize it to learn [10].\n",
    "Supervised and Unsupervised are two main categories of machine learning.\n",
    "\n",
    "The main objective in supervised learning is a mapping function that best describes the input data (x) which concludes the output data (Y). With the aid of known x and Y, the mapping function (f) is computed that will achieve an optimum performance. This mapping function f is used to predict unseen data.\n",
    "\n",
    "                                             Y = f(X)\n",
    "\n",
    "Classification and regression are two main categories in Supervised Machine learning depending on the type of output variable.For the classification task the output variable is categorical. If the output variable is a real value, then it is a regression problem.[11]. Classification problems can be performed using various algorithms. In this task, we are using Logistic regression for its incredibly easy to implement and very efficient to train.\n",
    "\n",
    "There is no output Y in unsupervised machine learning. The objective is to find the most interesting structure that best describes the input data[11].\n",
    " Clustering and association are its typical categories. A problem is said to be a Clustering problem if it has groupings inside the input data. (Example: grouping voting behaviors by gender).  Association is when we discover rules inside the input data. (Example: female voters tend to vote for female candidates).\n",
    "\n",
    "\n",
    "\n",
    "\n"
   ]
  },
  {
   "cell_type": "markdown",
   "metadata": {},
   "source": [
    "### Logistic Regression"
   ]
  },
  {
   "cell_type": "markdown",
   "metadata": {},
   "source": [
    "Logistic Regression is used for the  categorical dependent variable.\n",
    "\n",
    "<b>Model\n",
    "    \n",
    "   * Output = 0 or 1\n",
    "   * Hypothesis => Z = WX + B\n",
    "   * hΘ(x) = sigmoid (Z)\n",
    "    \n"
   ]
  },
  {
   "cell_type": "markdown",
   "metadata": {},
   "source": [
    "![sigma](sig.jpg)"
   ]
  },
  {
   "cell_type": "markdown",
   "metadata": {},
   "source": [
    "If ‘Z’ goes to infinity, Y(predicted) will become 1 and if ‘Z’ goes to negative infinity, Y(predicted) will become 0 [12]"
   ]
  },
  {
   "cell_type": "markdown",
   "metadata": {},
   "source": [
    "<b>Decision Boundary\n",
    "    \n"
   ]
  },
  {
   "cell_type": "markdown",
   "metadata": {},
   "source": [
    "To predict which class a data belongs, a threshold can be set. Based upon this threshold, the obtained estimated probability is classified into classes.\n",
    "Say, if predicted_value ≥ 0.5, then classify email as spam else as not spam.\n",
    "Decision boundary can be linear or non-linear. Polynomial order can be increased to get complex decision boundary"
   ]
  },
  {
   "cell_type": "markdown",
   "metadata": {},
   "source": [
    "<b>Cost Function"
   ]
  },
  {
   "cell_type": "markdown",
   "metadata": {},
   "source": [
    "![](cf.jpg)"
   ]
  },
  {
   "cell_type": "markdown",
   "metadata": {},
   "source": [
    "Linear regression uses mean squared error as its cost function. If this is used for logistic regression, then it will be a\n",
    "non-convex function of parameters (theta). Gradient descent will converge into global minimum only if the function is convex[12].\n"
   ]
  },
  {
   "cell_type": "markdown",
   "metadata": {},
   "source": [
    "The simplied version of cost funtion can be written as[12],\n",
    "\n"
   ]
  },
  {
   "cell_type": "markdown",
   "metadata": {},
   "source": [
    "![](simpli.jpg)"
   ]
  },
  {
   "cell_type": "markdown",
   "metadata": {},
   "source": [
    "This implementation is for binary logistic regression. For data with more than 2 classes, softmax regression can also \n",
    "be used."
   ]
  },
  {
   "cell_type": "markdown",
   "metadata": {},
   "source": [
    "### XGBoost"
   ]
  },
  {
   "cell_type": "markdown",
   "metadata": {},
   "source": [
    "XGBoost is an optimized distributed gradient boosting library designed to be highly efficient, flexible and portable.\n",
    "It implements machine learning algorithms under the Gradient Boosting framework. XGBoost provides a parallel tree boosting\n",
    "(also known as GBDT, GBM) that solve many data science problems in a fast and accurate way."
   ]
  },
  {
   "cell_type": "markdown",
   "metadata": {},
   "source": [
    "XGBoost algorithm was developed as a research project at the University of Washington. Tianqi Chen and Carlos Guestrin \n",
    "presented their paper at SIGKDD Conference in 2016 and caught the Machine Learning world by fire[13]."
   ]
  },
  {
   "cell_type": "markdown",
   "metadata": {},
   "source": [
    "The algorithm differentiates itself in the following ways[13]:\n",
    "* A wide range of applications: Can be used to solve regression, classification, ranking, and user-defined prediction problems\n",
    "* Portability: Runs smoothly on Windows, Linux, and OS X\n",
    "* Cloud Integration: Supports AWS, Azure, and Yarn clusters and works well with Flink, Spark, and other ecosystems   "
   ]
  },
  {
   "cell_type": "markdown",
   "metadata": {},
   "source": [
    "XGBoost performs so well because XGBoost and Gradient Boosting Machines (GBMs) are both ensemble tree methods that apply \n",
    "the principle of boosting weak learners using the gradient descent architecture. However, XGBoost \n",
    "improves upon the base GBM framework through systems optimization and algorithmic enhancements"
   ]
  },
  {
   "cell_type": "markdown",
   "metadata": {},
   "source": [
    "![](XGB2.jpg)"
   ]
  },
  {
   "cell_type": "markdown",
   "metadata": {},
   "source": [
    "### Cross Validation"
   ]
  },
  {
   "cell_type": "markdown",
   "metadata": {},
   "source": [
    "Learning the parameters of a prediction function and testing it on the same data is a methodological mistake. A model that\n",
    "would just repeat the labels of the samples that it has just seen would have a perfect score but would fail to predict\n",
    "anything useful on yet-unseen data. This situation is called overfitting. To avoid it, it is common practice when\n",
    "performing a (supervised) machine learning experiment to hold out part of the available data as a test set X_test, y_test[14].\n",
    "Here is a flowchart of typical cross validation workflow in model training."
   ]
  },
  {
   "cell_type": "markdown",
   "metadata": {},
   "source": [
    "We have various techniques to perform cross validation on data sets. In the present case study we are performimg Stratified \n",
    "K-Fold cross validaton for which we need to understand K-Fold Cross vaidation first."
   ]
  },
  {
   "cell_type": "markdown",
   "metadata": {},
   "source": [
    "### K-Fold"
   ]
  },
  {
   "cell_type": "markdown",
   "metadata": {},
   "source": [
    "KFold divides all the samples in  groups of samples, called folds (if k= n, , this is equivalent to the Leave One strategy),\n",
    "of equal sizes (if possible). The prediction function is learned using k=1folds, and the fold left out is used for test[14]."
   ]
  },
  {
   "cell_type": "markdown",
   "metadata": {},
   "source": [
    "Here is a visualization of the cross-validation behavior. Note that KFold is not affected by classes or groups"
   ]
  },
  {
   "cell_type": "markdown",
   "metadata": {},
   "source": [
    "![](kfold.jpg)"
   ]
  },
  {
   "cell_type": "markdown",
   "metadata": {},
   "source": [
    "StratifiedKFold is a variation of k-fold which returns stratified folds: each set contains approximately the same percentage\n",
    "of samples of each target class as the complete set[14]."
   ]
  },
  {
   "cell_type": "markdown",
   "metadata": {},
   "source": [
    "Here is a visualization of the cross-validation behavior."
   ]
  },
  {
   "cell_type": "markdown",
   "metadata": {},
   "source": [
    "![](skfold.jpg)"
   ]
  },
  {
   "cell_type": "markdown",
   "metadata": {},
   "source": [
    "We can see that StratifiedKFold preserves the class ratios in both train and test dataset[14]. In the current work, we have incorporated 5*5 Stratified K-Fold Cross validation on training Data set to make use of complete data for training purpose. "
   ]
  },
  {
   "cell_type": "markdown",
   "metadata": {},
   "source": [
    "### Hyperparameter Optimization With Random Search"
   ]
  },
  {
   "cell_type": "markdown",
   "metadata": {},
   "source": [
    "Machine learning models have hyperparameters that we must set in order to customize the model to our dataset. \n",
    "A better approach is to objectively search different values for model hyperparameters and choose a subset that results in a\n",
    "model that achieves the best performance on a given dataset. This is called hyperparameter optimization or hyperparameter \n",
    "tuning and is available in the scikit-learn Python machine learning library.  The result of a hyperparameter optimization is a single set of well-performing hyperparameters that we can use to configure our model[15]."
   ]
  },
  {
   "cell_type": "markdown",
   "metadata": {},
   "source": [
    "RandomizedSearchCV implements a “fit” and a “score” method. It also implements “score_samples”, “predict”, “predict_proba”, “decision_function”, “transform” and “inverse_transform” if they are implemented in the estimator used.\n",
    "\n",
    "The parameters of the estimator used to apply these methods are optimized by cross-validated search over parameter settings[16].\n",
    "\n",
    "An optimization procedure involves defining a search space. This can be thought of geometrically as an n-dimensional volume, where each hyperparameter represents a different dimension and the scale of the dimension are the values that the hyperparameter may take on, such as real-valued, integer-valued, or categorical[15].\n",
    "\n",
    "In the current case study, i have choosen little big search space for not missing any of the value that best suits. I have used the following function for Logististic Regression Algorithm, \"loguniform(1e-5, 100)\". In case of XGBoost algorith after multiple trails, i have taken a sapmle space of [0.5, 1 ] as the search space for hyper parameter tuning of the algorithm. "
   ]
  },
  {
   "cell_type": "markdown",
   "metadata": {},
   "source": [
    "## METHODOLOGY"
   ]
  },
  {
   "cell_type": "markdown",
   "metadata": {},
   "source": [
    " ### Importing all necessary packages \n"
   ]
  },
  {
   "cell_type": "code",
   "execution_count": 1,
   "metadata": {},
   "outputs": [],
   "source": [
    "from scipy.stats import loguniform\n",
    "from sklearn.linear_model import LogisticRegression\n",
    "from sklearn.model_selection import RandomizedSearchCV\n",
    "from sklearn import preprocessing\n",
    "from sklearn.model_selection import StratifiedKFold\n",
    "from sklearn import model_selection\n",
    "from sklearn.ensemble import RandomForestClassifier \n",
    "from sklearn import metrics\n",
    "from xgboost import XGBClassifier\n",
    "import pandas as pd\n",
    "import matplotlib.pyplot as plt\n"
   ]
  },
  {
   "cell_type": "markdown",
   "metadata": {},
   "source": [
    "### Load Dataset"
   ]
  },
  {
   "cell_type": "markdown",
   "metadata": {},
   "source": [
    "The basic process of loading data from a CSV file into a Pandas DataFrame is achieved using the\n",
    "“read_csv” function in Pandas. Pandas is a Python package providing fast, flexible, and expressive data structures designed, to make working with “relational” or “labeled” data both easy and intuitive. It aims to be the fundamental high-level building block for doing practical, real-world data analysis in Python [6].\n"
   ]
  },
  {
   "cell_type": "code",
   "execution_count": 2,
   "metadata": {},
   "outputs": [],
   "source": [
    "df_train = pd.read_csv (\"D:\\current semester\\data science with python\\MNIST DATA\\mnist_train.csv\")\n",
    "df_test = pd.read_csv (\"D:\\current semester\\data science with python\\MNIST DATA\\mnist_test.csv\")\n"
   ]
  },
  {
   "cell_type": "markdown",
   "metadata": {},
   "source": [
    "### Data Preprocessing"
   ]
  },
  {
   "cell_type": "markdown",
   "metadata": {},
   "source": [
    "In any machine learning process, data preprocessing is that step in which the data gets transformed, or encoded, to bring it \n",
    "to such a state that now the machine can easily parse it. In other words, the features of the data can now be easily interpreted by the algorithm [7].\n",
    "\n",
    "Standardization of datasets is a common requirement for many machine learning estimators implemented in scikit-learn. They might behave badly if the individual features do not more or less look like standard normally distributed data: Gaussian with zero mean and unit variance [8]. The preprocessing module provides the StandardScaler utility class, which is a quick and easy way to perform the following operation on an array-like dataset.\n",
    "\n",
    "Also i have separated the class label from train and test data and fitted x_train using simple fit_transform function to train the data. "
   ]
  },
  {
   "cell_type": "code",
   "execution_count": 3,
   "metadata": {},
   "outputs": [
    {
     "name": "stdout",
     "output_type": "stream",
     "text": [
      "[[0. 0. 0. ... 0. 0. 0.]\n",
      " [0. 0. 0. ... 0. 0. 0.]\n",
      " [0. 0. 0. ... 0. 0. 0.]\n",
      " ...\n",
      " [0. 0. 0. ... 0. 0. 0.]\n",
      " [0. 0. 0. ... 0. 0. 0.]\n",
      " [0. 0. 0. ... 0. 0. 0.]] (60000, 784) [5 0 4 ... 5 6 8] (60000,)\n",
      "[[0. 0. 0. ... 0. 0. 0.]\n",
      " [0. 0. 0. ... 0. 0. 0.]\n",
      " [0. 0. 0. ... 0. 0. 0.]\n",
      " ...\n",
      " [0. 0. 0. ... 0. 0. 0.]\n",
      " [0. 0. 0. ... 0. 0. 0.]\n",
      " [0. 0. 0. ... 0. 0. 0.]] (10000, 784) [7 2 1 ... 4 5 6] (10000,)\n"
     ]
    }
   ],
   "source": [
    "scaler = preprocessing.StandardScaler()\n",
    "\n",
    "y_train=df_train.label.values\n",
    "#y_train = y_train\n",
    "x_train=df_train.loc[:, df_train.columns != 'label']\n",
    "x_train = x_train.values\n",
    "x_train = scaler.fit_transform(x_train)\n",
    "\n",
    "y_test=df_test.label.values\n",
    "#y_test = y_test\n",
    "\n",
    "x_test=df_test.loc[:, df_test.columns != 'label']\n",
    "x_test = x_test.values\n",
    "x_test = scaler.fit_transform(x_test)\n",
    "\n",
    "print(x_train, x_train.shape, y_train, y_train.shape)\n",
    "print(x_test, x_test.shape, y_test, y_test.shape)"
   ]
  },
  {
   "cell_type": "markdown",
   "metadata": {},
   "source": [
    "### Display of Input Images"
   ]
  },
  {
   "cell_type": "markdown",
   "metadata": {},
   "source": [
    "Matplotlib.pyplot is a collection of command style functions that make matplotlib work like MATLAB. Each pyplot \n",
    "function makes some changes to a figure. For eg, create a figure, create a plotting area in a figure, plot some lines in a\n",
    "plotting area, decorate the plot with labels, etc [9]. In the current code , we just preview some images in the data set with the\n",
    "aid of matplotlib.pyplot."
   ]
  },
  {
   "cell_type": "code",
   "execution_count": 4,
   "metadata": {},
   "outputs": [
    {
     "data": {
      "image/png": "[encoded data removed]",
      "text/plain": [
       "<Figure size 1440x288 with 5 Axes>"
      ]
     },
     "metadata": {
      "needs_background": "light"
     },
     "output_type": "display_data"
    }
   ],
   "source": [
    "import numpy as np\n",
    "import matplotlib.pyplot as plt\n",
    "plt.figure(figsize=(20,4))\n",
    "for index, (image, label) in enumerate(zip(x_train[0:5], y_train[0:5])):\n",
    " plt.subplot(1, 5, index + 1)\n",
    " plt.imshow(np.reshape(image, (28,28)), cmap=plt.cm.gray)\n",
    " plt.title('Training: %i\\n' % label, fontsize = 20)"
   ]
  },
  {
   "cell_type": "markdown",
   "metadata": {},
   "source": [
    "### Model Definition "
   ]
  },
  {
   "cell_type": "markdown",
   "metadata": {},
   "source": [
    "In the current case study, we are comparing two different Machine learning models namely, Logistic Regression and XGBoost.\n",
    "The following lines of code defines both the models. "
   ]
  },
  {
   "cell_type": "code",
   "execution_count": 5,
   "metadata": {},
   "outputs": [],
   "source": [
    "model_1 = LogisticRegression(solver = \"saga\")\n",
    "model_2= XGBClassifier()"
   ]
  },
  {
   "cell_type": "markdown",
   "metadata": {},
   "source": [
    "### Models Evaluation: Logistic Regression"
   ]
  },
  {
   "cell_type": "markdown",
   "metadata": {},
   "source": [
    "Hyper-parameters are parameters that are not directly learnt within estimators. In scikit-learn they are passed as arguments\n",
    "to the constructor of the estimator classes.\n",
    "\n",
    "As we know the important hyper parameter that in Logistic Regression is \"C\"(can be different symbols or names according\n",
    "to different literatures). This hyper parameter contributes majorly for the performance of the algorithm.Hence the selection of suitable hyper parameter is an important step in any machine learning Task. The selected value should minimise the predefined loss function of the model. This process of searching best hyper parameter is called hyper parameter search.\n",
    "\n",
    "We have various techniques to do hyper paramter tuning in AI. But two broad and typical standard techniques are\n",
    "Gridsearch and Randomsearch.\n",
    "\n",
    "In Grid Search, it exhaustively considers all parameter combinations. For example, if the algorithm have one hyperparameter \n",
    "then say model has to be trained \"m1\" times , and if the algorithm has two hyper parameters then it should be trained \n",
    "\"m1 * m2\" times. So, as the number of hyperparameters increases, the number of times the model needs to be trained increases \n",
    "exponentially. To reduce this time complexity we have one more recent technique called Randomsearch can be used. \n",
    "\n",
    "Randomsearch is as good as grid search and mostly faster than that, because of its randomness in selecting values from the \n",
    "search space. This works in the following way. First it picks up values from the given search space randomly. In this case study the search space is given as  [1e-5, 100]. Then the model is trained for each picked value and gives the best hyper parameter value which has least cross validation error. 5*5 k-Fold cross validation is used to train the Data set. \n",
    "\n",
    "\n",
    "Scikit-learn has both these techniques incorporated and we can directly use wih the following code;\n"
   ]
  },
  {
   "cell_type": "code",
   "execution_count": 8,
   "metadata": {},
   "outputs": [
    {
     "name": "stderr",
     "output_type": "stream",
     "text": [
      "C:\\Users\\Anilchoudary R\\anaconda3\\lib\\site-packages\\sklearn\\linear_model\\_sag.py:330: ConvergenceWarning: The max_iter was reached which means the coef_ did not converge\n",
      "  \"the coef_ did not converge\", ConvergenceWarning)\n"
     ]
    }
   ],
   "source": [
    "\n",
    "search_space = dict()\n",
    "search_space['C'] = loguniform(1e-5, 100)\n",
    "\n",
    "cv = StratifiedKFold(n_splits=5, shuffle=False, random_state=None)\n",
    "\n",
    "cv_results = RandomizedSearchCV(model_1,search_space, scoring=\"accuracy\" , n_jobs= -1, cv=cv, random_state=1)\n",
    "\n",
    "results_1= cv_results.fit(x_train, y_train)\n",
    "\n",
    "\n",
    "    \n",
    "    \n",
    "    \n",
    "    \n"
   ]
  },
  {
   "cell_type": "markdown",
   "metadata": {},
   "source": [
    "### Prediction and scoring"
   ]
  },
  {
   "cell_type": "code",
   "execution_count": 11,
   "metadata": {},
   "outputs": [
    {
     "name": "stdout",
     "output_type": "stream",
     "text": [
      "Log_accuracy: 0.9163\n",
      "Best Hyperparameters: {'C': 1.10222803767004}\n"
     ]
    }
   ],
   "source": [
    "print('Log_accuracy: %s' % results_1.best_score_)\n",
    "print('Best Hyperparameters: %s' % results_1.best_params_)\n",
    " "
   ]
  },
  {
   "cell_type": "code",
   "execution_count": 13,
   "metadata": {},
   "outputs": [
    {
     "name": "stdout",
     "output_type": "stream",
     "text": [
      "Wall time: 17.1 ms\n"
     ]
    },
    {
     "data": {
      "text/plain": [
       "0.9218"
      ]
     },
     "execution_count": 13,
     "metadata": {},
     "output_type": "execute_result"
    }
   ],
   "source": [
    "%%time\n",
    "test_accuracy = results_1.score(x_test, y_test)\n",
    "test_accuracy"
   ]
  },
  {
   "cell_type": "markdown",
   "metadata": {},
   "source": [
    "### Confusion Matrix\n"
   ]
  },
  {
   "cell_type": "markdown",
   "metadata": {},
   "source": [
    "In this case study, confusion matrix is being used to evaluate the quality of the output of a Logistic regression classifier on MNIST data set. The diagonal element\n",
    "represent the number of points for which the predicted label is equal to the true label, while off-diagonal elements \n",
    "are those that are mislabeled by the classifier. The higher the diagonal values of the confusion matrix the better, \n",
    "indicating many correct predictions[17]. I have used used predicted value to compute confusion matrix. Below is the code that\n",
    "forms confusion matrix for the obtained results from Logistic regression algorithm using scikit learn."
   ]
  },
  {
   "cell_type": "code",
   "execution_count": 15,
   "metadata": {},
   "outputs": [
    {
     "data": {
      "text/plain": [
       "array([[ 960,    0,    0,    1,    0,    5,    9,    3,    2,    0],\n",
       "       [   0, 1107,    2,    2,    1,    2,    4,    2,   15,    0],\n",
       "       [  10,   11,  921,   16,    8,    5,   12,   12,   33,    4],\n",
       "       [   4,    2,   20,  913,    2,   30,    2,   14,   17,    6],\n",
       "       [   2,    4,    4,    0,  922,    0,   11,    3,    5,   31],\n",
       "       [   8,    4,    2,   30,   11,  783,   15,    8,   26,    5],\n",
       "       [  10,    4,    7,    1,    7,   14,  911,    2,    2,    0],\n",
       "       [   3,   12,   19,    7,    6,    0,    1,  946,    0,   34],\n",
       "       [  10,   16,    8,   18,   11,   29,   11,   13,  846,   12],\n",
       "       [  11,    9,    2,   11,   31,    6,    0,   26,    4,  909]],\n",
       "      dtype=int64)"
      ]
     },
     "execution_count": 15,
     "metadata": {},
     "output_type": "execute_result"
    }
   ],
   "source": [
    "from sklearn import metrics\n",
    "predictions_1 = results_1.predict(x_test)\n",
    "\n",
    "cm = metrics.confusion_matrix(y_true=y_test, \n",
    "                         y_pred = predictions_1, \n",
    "                        labels = results_1.classes_)\n",
    "cm"
   ]
  },
  {
   "cell_type": "markdown",
   "metadata": {},
   "source": [
    "Below code using seaborn library shows better visulization of the computed confusion matrix. "
   ]
  },
  {
   "cell_type": "code",
   "execution_count": 16,
   "metadata": {},
   "outputs": [
    {
     "data": {
      "image/png": "[encoded data removed]",
      "text/plain": [
       "<Figure size 864x864 with 2 Axes>"
      ]
     },
     "metadata": {
      "needs_background": "light"
     },
     "output_type": "display_data"
    }
   ],
   "source": [
    "import seaborn as sns\n",
    "\n",
    "plt.figure(figsize=(12,12))\n",
    "sns.heatmap(cm, annot=True, \n",
    "            linewidths=.5, square = True, cmap = 'Blues_r', fmt='0.4g');\n",
    "\n",
    "plt.ylabel('Actual label')\n",
    "plt.xlabel('Predicted label')\n",
    "all_sample_title = 'Accuracy Score: {0}'.format(test_accuracy)\n",
    "plt.title(all_sample_title);"
   ]
  },
  {
   "cell_type": "markdown",
   "metadata": {},
   "source": [
    "### Models Evaluation: XGBoost"
   ]
  },
  {
   "cell_type": "markdown",
   "metadata": {},
   "source": [
    "In this section, XGBoost algorithm is applied on MNIST dataset which is already loaded and preprocessed dataset.As mentioned in the section( model evaluation: Logistic regression),  5*5 Stratified K fold cross validation is applied on training data and hyper parameter tuning is carried out using RandomizedSearchCV. \n",
    "\n",
    "XGBoost is not implemented in Scikit-learn. It's completely different package but can be imported it using simple libraray. XGboost is  takes all positives of Gradient Boosted Decision Tree and Random Forest ( GBDT + row sampling + column sampling \n",
    "\n",
    "Important hyperparameters in this algorithm are learning rate, maximum depth of the trees, n estimators, and subsamples. So in the current case study firstly the algorithm is tested for default values of learning rate of 0.1 and a maximum depth of trees as 3. The results were not that satisfactory. The accuracy obtained was 0.92. So to improve results, hyperparameter tuning is carried out. These parameters are selected randomly in their range. The values are given as key-value pairs in the dictionary \"space\". These parameters are tuned using randomisedsearchcv and fed to the model to predict unseen data.\n",
    "Below lines of code compute the same using scikit learn package. "
   ]
  },
  {
   "cell_type": "code",
   "execution_count": 6,
   "metadata": {},
   "outputs": [
    {
     "name": "stderr",
     "output_type": "stream",
     "text": [
      "C:\\Users\\Anilchoudary R\\anaconda3\\lib\\site-packages\\sklearn\\model_selection\\_search.py:281: UserWarning: The total space of parameters 8 is smaller than n_iter=500. Running 8 iterations. For exhaustive searches, use GridSearchCV.\n",
      "  % (grid_size, self.n_iter, grid_size), UserWarning)\n"
     ]
    }
   ],
   "source": [
    "space = dict()\n",
    "space['subsample'] = [0.5,1]\n",
    "space[\"learning_rate\"]=[0.1,0.3,0.7, 0.9]\n",
    "#space[\"max_depth\"]=[3,4]\n",
    "search = RandomizedSearchCV(model_2, space, n_iter=500, scoring='accuracy', n_jobs=-1, random_state=1)\n",
    "\n",
    "results_2 = search.fit(x_train, y_train)\n"
   ]
  },
  {
   "cell_type": "code",
   "execution_count": 7,
   "metadata": {},
   "outputs": [
    {
     "name": "stdout",
     "output_type": "stream",
     "text": [
      "Best Score: 0.9685333333333335\n",
      "Best Hyperparameters: {'subsample': 1, 'learning_rate': 0.9}\n"
     ]
    }
   ],
   "source": [
    "print('Best Score: %s' % results_2.best_score_)\n",
    "print('Best Hyperparameters: %s' % results_2.best_params_)"
   ]
  },
  {
   "cell_type": "code",
   "execution_count": 8,
   "metadata": {},
   "outputs": [
    {
     "name": "stdout",
     "output_type": "stream",
     "text": [
      "Wall time: 781 ms\n"
     ]
    },
    {
     "data": {
      "text/plain": [
       "0.9519"
      ]
     },
     "execution_count": 8,
     "metadata": {},
     "output_type": "execute_result"
    }
   ],
   "source": [
    "%%time\n",
    "test_results = results_2.score(x_test, y_test)\n",
    "test_results"
   ]
  },
  {
   "cell_type": "code",
   "execution_count": 14,
   "metadata": {},
   "outputs": [
    {
     "data": {
      "text/plain": [
       "array([[ 966,    0,    0,    1,    0,    1,    1,    1,    9,    1],\n",
       "       [   0, 1102,    1,    7,    0,    1,    1,    0,   21,    2],\n",
       "       [   5,    1,  930,   21,    2,    0,    1,    4,   62,    6],\n",
       "       [   0,    0,    3,  976,    0,    4,    0,    3,   18,    6],\n",
       "       [   4,    1,    3,    3,  933,    0,    2,    1,    6,   29],\n",
       "       [   4,    0,    0,   16,    0,  845,    7,    1,   17,    2],\n",
       "       [  10,    3,    1,    0,   10,    9,  915,    0,   10,    0],\n",
       "       [   3,    0,    7,   26,    2,    0,    0,  918,   13,   59],\n",
       "       [   2,    2,    0,    5,    3,    0,    0,    4,  958,    0],\n",
       "       [   2,    3,    0,    9,    5,    4,    0,    1,    9,  976]],\n",
       "      dtype=int64)"
      ]
     },
     "execution_count": 14,
     "metadata": {},
     "output_type": "execute_result"
    }
   ],
   "source": [
    "\n",
    "\n",
    "from sklearn import metrics\n",
    "predictions_1 = results_2.predict(x_test)\n",
    "\n",
    "cm = metrics.confusion_matrix(y_true=y_test, \n",
    "                         y_pred = predictions_1, \n",
    "                        labels = results_2.classes_)\n",
    "cm"
   ]
  },
  {
   "cell_type": "code",
   "execution_count": 15,
   "metadata": {},
   "outputs": [
    {
     "data": {
      "image/png": "[encoded data removed]",
      "text/plain": [
       "<Figure size 864x864 with 2 Axes>"
      ]
     },
     "metadata": {
      "needs_background": "light"
     },
     "output_type": "display_data"
    }
   ],
   "source": [
    "import seaborn as sns\n",
    "\n",
    "plt.figure(figsize=(12,12))\n",
    "sns.heatmap(cm, annot=True, \n",
    "            linewidths=.5, square = True, cmap = 'Blues_r', fmt='0.4g');\n",
    "\n",
    "plt.ylabel('Actual label')\n",
    "plt.xlabel('Predicted label')\n",
    "all_sample_title = 'Accuracy Score: {0}'.format(test_results)\n",
    "plt.title(all_sample_title);"
   ]
  },
  {
   "cell_type": "markdown",
   "metadata": {},
   "source": [
    "### Performance Accuracy Comparison - Bar Plots"
   ]
  },
  {
   "cell_type": "markdown",
   "metadata": {},
   "source": [
    "Classification Accuracy is what we usually mean, when we use the term accuracy. It is the ratio of number of correct\n",
    "predictions to the total number of input samples[5]\n"
   ]
  },
  {
   "cell_type": "markdown",
   "metadata": {},
   "source": [
    "![](acc.jpg)"
   ]
  },
  {
   "cell_type": "markdown",
   "metadata": {},
   "source": [
    "Accuracy is computed for Logistic regression and XGBoost for test and training separately. It is compared using grouped Bar \n",
    "plots. These can be easily visualized using matplotlib library which is extensively used in AI to perform various\n",
    "visualization and interpretion."
   ]
  },
  {
   "cell_type": "code",
   "execution_count": 16,
   "metadata": {},
   "outputs": [
    {
     "data": {
      "image/png": "[encoded data removed]",
      "text/plain": [
       "<Figure size 432x288 with 1 Axes>"
      ]
     },
     "metadata": {
      "needs_background": "light"
     },
     "output_type": "display_data"
    }
   ],
   "source": [
    "import matplotlib\n",
    "import matplotlib.pyplot as plt\n",
    "import numpy as np\n",
    "\n",
    "\n",
    "labels = ['Train', 'Test']\n",
    "lr = [0.9163, 0.9218]\n",
    "xgb = [0.9685, 0.9519]\n",
    "\n",
    "x = np.arange(len(labels))  # the label locations\n",
    "width = 0.35  # the width of the bars\n",
    "\n",
    "fig, ax = plt.subplots()\n",
    "rects1 = ax.bar(x - width/2, lr, width, label='LR')\n",
    "rects2 = ax.bar(x + width/2, xgb, width, label='XGB')\n",
    "\n",
    "# Add some text for labels, title and custom x-axis tick labels, etc.\n",
    "ax.set_ylabel('Accuracy')\n",
    "ax.set_title('Accuracy comparision')\n",
    "ax.set_xticks(x)\n",
    "ax.set_xticklabels(labels)\n",
    "ax.legend()\n",
    "\n",
    "\n",
    "def autolabel(rects):\n",
    "    \"\"\"Attach a text label above each bar in *rects*, displaying its height.\"\"\"\n",
    "    for rect in rects:\n",
    "        height = rect.get_height()\n",
    "        ax.annotate('{}'.format(height),\n",
    "                    xy=(rect.get_x() + rect.get_width() / 2, height),\n",
    "                    xytext=(0,0), \n",
    "                    textcoords=\"offset points\",\n",
    "                    ha='center', va='bottom')\n",
    "\n",
    "\n",
    "autolabel(rects1)\n",
    "autolabel(rects2)\n",
    "\n",
    "fig.tight_layout()\n",
    "\n",
    "plt.show()"
   ]
  },
  {
   "cell_type": "markdown",
   "metadata": {},
   "source": [
    "# RESULTS AND DISCUSSION"
   ]
  },
  {
   "cell_type": "markdown",
   "metadata": {},
   "source": [
    "The performance accuracy of Logistic regression and XGBoost is shown in the accuracy table below and visualized using accuracy barplots as shown above. \n",
    "\n"
   ]
  },
  {
   "cell_type": "markdown",
   "metadata": {},
   "source": [
    "| Model | Train Accuracy  |Train Accuracy | Wall Time (ms)\n",
    "| --- | --- | --- | --- |\n",
    "| Logistic Regression | 0.9163 | 0.9218 | 17.1\n",
    "| XGBoost |0.9685 | 0.9519 | 640"
   ]
  },
  {
   "cell_type": "markdown",
   "metadata": {},
   "source": [
    "Case 1: In the case of Logistic regression the simulation results showed that the training accuracy is 91.63 percent and test accuracy is 92.18\n",
    "percent. The model is said to overfit if there is a large difference between the train and test the accuracy of the model. The simulation results obtained confirm that the model is not overfitting. The best value of hyperparametr obtained is 1.1022.  The confusion matrix of Logistic regression\n",
    "shows that the model has good quality output.\n",
    "The higher value in the diagonal elements shows that the model has performed well and lower the value in off-diagonal elements indicates that very few images are misclassified. Also, we can say 54978 images in train data and 9218 images in test data are correctly classified I,e these are true positives and true negatives in the confusion matrix. "
   ]
  },
  {
   "cell_type": "markdown",
   "metadata": {},
   "source": [
    "Case 2: In the case of XGBoost the simulation results showed that the training accuracy is 96.85 percent and test accuracy is 95.19 percent confirms the model is not overfitting. The best values of hyper parameters obtained for learning rate is 0.9 and subsample as 1.  The confusion matrix of XGBoost shows\n",
    "    that the model has performed well and has very few images misclasified.  Also, we can say 57948 images in train data and 9519 images in test data are correctly classified I,e these are true positives and true negatives in the confusion matrix.  "
   ]
  },
  {
   "cell_type": "markdown",
   "metadata": {},
   "source": [
    "Since the test accuracy of XGBoost ( 95.19 percent) is more than the test accuracy of Logistic regression(92.18), XGBoost performs \n",
    "better for handwritten digit recognition. "
   ]
  },
  {
   "cell_type": "markdown",
   "metadata": {},
   "source": [
    "# CONCLUSION"
   ]
  },
  {
   "cell_type": "markdown",
   "metadata": {},
   "source": [
    "This case study assesses the performance accuracy of two machine learning technologies namely Logistic regression and XGBoost for the classification of handwritten digit recognition on MNIST dataset. The performance of both models is evaluated with the same input data and similar cross-validation and hyperparameter tuning techniques. The study demonstrates that XGBoost performs better than Logistic Regression. In the case of XGBoost slightly higher time is invested to boost the model. However it is concluded that XGBoost is a better choice for handwritten digit recognition in terms of accuracy and model performance. "
   ]
  },
  {
   "cell_type": "markdown",
   "metadata": {},
   "source": [
    "# REFERENCES"
   ]
  },
  {
   "cell_type": "markdown",
   "metadata": {},
   "source": [
    "\n",
    "1.   Nonitha Sharma, \"XGBoost. The Extreme Gradient Boosting for Mining Applications\" technical report, GRIN, 2017.\n",
    "    Available:  https://www.grin.com/document/415839\n",
    "2.  \"Machine learning \" Wikipedia. Available:https://en.wikipedia.org/wiki/Machine_learning\n",
    "3.  \"Logistic regression\" Wikipedia.Available:https://en.wikipedia.org/wiki/Logistic_regression\n",
    "4.  Jason Brownlee, \"A Gentle Introduction to XGBoost for Applied Machine Learning\" Machine Learning Mastery, Aug. 17, 2016.\n",
    "    Available:  https://machinelearningmastery.com/gentle-introduction-xgboost-applied-machine-learning/\n",
    "5.  Aditya Mishra, \"Metrics to Evaluate your Machine Learning Algorithm\" Towards Data Science, Feb.2, 2018.\n",
    "    Available: https://towardsdatascience.com/metrics-to-evaluate-your-machine-learning-algorithm-f10ba6e38234             \n",
    "6.  \"Package overview\" Pandas. Available:https://pandas.pydata.org/docs/getting_started/overview.html  \n",
    "7.  Pranjal Pandey, \"Data Preprocessing : Concepts\" Towards Data Science, Nov. 25, 2019.\n",
    "    Available:  https://towardsdatascience.com/data-preprocessing-concepts-fa946d11c825 \n",
    "8.  \"Preprocessing data\" Scikit learn. Available:https://scikit-learn.org/stable/modules/preprocessing.html  \n",
    "9.  \"Pyplot tutorial\" matplotlib. Available:https://matplotlib.org/1.2.1/users/pyplot_tutorial.html\n",
    "10.  Expert System Team, \"What is Machine Learning? A Definition\" expert.ai, May. 6, 2020.\n",
    "     Available:  https://www.expert.ai/blog/machine-learning-definition/\n",
    "11.  Jun Wu, \"AI, Machine Learning, Deep Learning Explained Simply\" Towards Data Science, Jul.1, 2019.\n",
    "     Available: https://towardsdatascience.com/ai-machine-learning-deep-learning-explained-simply-7b553da5b960   \n",
    "12.  Saishruthi Swaminathan, \"Logistic Regression — Detailed Overview\" Towards Data Science, Mar.15, 2018.\n",
    "     Available: https://towardsdatascience.com/logistic-regression-detailed-overview-46c4da4303bc            \n",
    "13.  Vishal Morde, \"XGBoost Algorithm: Long May She Reign\" Towards Data Science, Apr.08, 2019.\n",
    "     Available: https://towardsdatascience.com/https-medium-com-vishalmorde-xgboost-algorithm-long-she-may-rein-edd9f99be63d \n",
    "14.  \"Cross-validation: evaluating estimator performance\" Scikit learn. \n",
    "      Available:https://scikit-learn.org/stable/modules/cross_validation.html#stratified-k-fold\n",
    "15.   Jason Brownlee, \"Hyperparameter Optimization With Random Search and Grid Search\" Machine Learning Mastery,Sep.14,2020.\n",
    "      Available:https://machinelearningmastery.com/hyperparameter-optimization-with-random-search-and-grid-search/   \n",
    "16.  \"sklearn.model_selection.RandomizedSearchCV\" Scikit learn. \n",
    "      Available:https://scikit-learn.org/stable/modules/generated/sklearn.model_selection.RandomizedSearchCV.html\n",
    "17.   \"Confusion matrix\" Scikit learn. \n",
    "      Available:https://scikit-learn.org/stable/auto_examples/model_selection/plot_confusion_matrix.html   \n",
    "18.   Yazhou Yang, Marco Loog, \"A Benchmark and Comparison of Active Learning for Logistic Regression,\" Pattern Recognition  Laboratory, Delft University of Technology, The Netherlands, Jun. 21, 2018. Available: https://arxiv.org/pdf/1611.08618.pdf  \n",
    "19.   Dimitris Bertsimas, Angela King, \"Logistic Regression: From Art to Science,\" Aug.2017. Available: https://www.researchgate.net/publication/319418631_Logistic_Regression_From_Art_to_Science\n",
    "20. Ameen Abu-Hanna, Nicolette de Keizer \"Integrating classification trees with local logistic regression in Intensive Care prognosis\" Department of Medical Informatics, AMC-University of Amsterdam, Meibergdreef 15, 1105 AZ Amsterdam, The Netherlands, Jun. 21, 2018. Available: https://pubmed.ncbi.nlm.nih.gov/12957778/\n",
    "21. Zhicheng Cui, Muhan Zhang, Yixin Chen \"Deep Embedding Logistic Regression\" 2018 IEEE International Conference on Big Knowledge (ICBK),  Singapore, Singapore. Oct.2003. Available: https://ieeexplore.ieee.org/document/8588790\n",
    "22. Zhicheng Cui, Muhan Zhang, Yixin Chen \"Assessing the Efficacy of Machine Learning Techniques\n",
    "for Handwritten Digit Recognition\" 2018 IEEE International Conference on Big Knowledge (ICBK),  Singapore, Singapore. Oct.2003. Available: https://ieeexplore.ieee.org/document/8588790 \n",
    "23. Watada, J., & Pedrycz, W \" A fuzzy regression approach to acquisition of linguistic rules\".\n",
    "Handbook of Granular Computing, 719-732, 2008.\n",
    "24. Seewald, A. K. (2011).\" On the brittleness of handwritten digit recognition models\". ISRN Machine Vision, 2012.\n",
    "25. Kloesgen, W., & Zytkow, J. Handbook of Knowledge Discovery and Data Mining.\n",
    "26. Plamondon, R., & Srihari, S. N. Online and off-linehandwriting recognition: a comprehensive survey.\n",
    "IEEE Transactions on Pattern Analysis and Machine Intelligence, 22(1), 63-84.\n",
    "\n"
   ]
  }
 ],
 "metadata": {
  "kernelspec": {
   "display_name": "Python 3",
   "language": "python",
   "name": "python3"
  },
  "language_info": {
   "codemirror_mode": {
    "name": "ipython",
    "version": 3
   },
   "file_extension": ".py",
   "mimetype": "text/x-python",
   "name": "python",
   "nbconvert_exporter": "python",
   "pygments_lexer": "ipython3",
   "version": "3.7.6"
  }
 },
 "nbformat": 4,
 "nbformat_minor": 4
}
